{
  "nbformat": 4,
  "nbformat_minor": 0,
  "metadata": {
    "colab": {
      "provenance": [],
      "authorship_tag": "ABX9TyNusYfz9dL+EU86rXB/dP/w",
      "include_colab_link": true
    },
    "kernelspec": {
      "name": "python3",
      "display_name": "Python 3"
    },
    "language_info": {
      "name": "python"
    }
  },
  "cells": [
    {
      "cell_type": "markdown",
      "metadata": {
        "id": "view-in-github",
        "colab_type": "text"
      },
      "source": [
        "<a href=\"https://colab.research.google.com/github/zroe1/letterPredictor/blob/main/letterpredictor.ipynb\" target=\"_parent\"><img src=\"https://colab.research.google.com/assets/colab-badge.svg\" alt=\"Open In Colab\"/></a>"
      ]
    },
    {
      "cell_type": "code",
      "execution_count": null,
      "metadata": {
        "id": "LUW2zXZBwbQX"
      },
      "outputs": [],
      "source": [
        "from __future__ import absolute_import, division, print_function, unicode_literals\n",
        "\n",
        "import tensorflow as tf\n",
        "import tensorflow.compat.v2.feature_column as fc\n",
        "\n",
        "import matplotlib.pyplot as plt\n",
        "import numpy as np\n",
        "import pandas as pd\n",
        "from IPython.display import clear_output\n",
        "from six.moves import urllib\n",
        "\n",
        "!pip install -U scikit-learn"
      ]
    },
    {
      "cell_type": "code",
      "source": [
        "training_df = pd.read_csv(\"https://raw.githubusercontent.com/zroe1/letterPredictor/main/training.csv\")\n",
        "eval_df = pd.read_csv(\"https://raw.githubusercontent.com/zroe1/letterPredictor/main/eval.csv\")\n",
        "\n",
        "letter5_from_training = training_df.pop(\"letter5\")\n",
        "letter5_from_eval = eval_df.pop(\"letter5\")\n",
        "\n",
        "# prints the head for the training dataframe (eval dataframe is same format)\n",
        "print(training_df.head())\n",
        "# NOTE: PoS stands for part of speech. The number in the part of speech\n",
        "# column represents a letter which represents a part of speech\n",
        "# (e.g, a = adjective)"
      ],
      "metadata": {
        "colab": {
          "base_uri": "https://localhost:8080/"
        },
        "id": "z0FT2fXNwfBL",
        "outputId": "2fbb7e54-73f9-490a-ed88-ae0bb7bcfabc"
      },
      "execution_count": 23,
      "outputs": [
        {
          "output_type": "stream",
          "name": "stdout",
          "text": [
            "   letter1  letter2  letter3  letter4  PoS\n",
            "0       97       98      111      117  105\n",
            "1      116      104      101      105   97\n",
            "2      119      111      117      108  118\n",
            "3      116      104      105      110  118\n",
            "4      116      104      101      114  101\n"
          ]
        }
      ]
    },
    {
      "cell_type": "code",
      "source": [
        "COLUMN_NAMES = [\"letter1\", \"letter2\", \"letter3\", \"letter4\", \"PoS\"] # All columns are numeric\n",
        "feature_columns = []\n",
        "\n",
        "for column_name in COLUMN_NAMES:\n",
        "  feature_columns.append(tf.feature_column.numeric_column(column_name, dtype=tf.float32))\n",
        "\n",
        "print(feature_columns)"
      ],
      "metadata": {
        "colab": {
          "base_uri": "https://localhost:8080/"
        },
        "id": "hwG1-afpyAsO",
        "outputId": "de4a46f9-8d35-4620-b4e6-8ae57dcf606c"
      },
      "execution_count": 24,
      "outputs": [
        {
          "output_type": "stream",
          "name": "stdout",
          "text": [
            "[NumericColumn(key='letter1', shape=(1,), default_value=None, dtype=tf.float32, normalizer_fn=None), NumericColumn(key='letter2', shape=(1,), default_value=None, dtype=tf.float32, normalizer_fn=None), NumericColumn(key='letter3', shape=(1,), default_value=None, dtype=tf.float32, normalizer_fn=None), NumericColumn(key='letter4', shape=(1,), default_value=None, dtype=tf.float32, normalizer_fn=None), NumericColumn(key='PoS', shape=(1,), default_value=None, dtype=tf.float32, normalizer_fn=None)]\n"
          ]
        }
      ]
    },
    {
      "cell_type": "code",
      "source": [
        "def make_input_fn(data_df, label_df, num_epochs=10, shuffle=True, batch_size=32):\n",
        "  def input_function():\n",
        "    ds = tf.data.Dataset.from_tensor_slices((dict(data_df), label_df))\n",
        "    if shuffle:\n",
        "      ds = ds.shuffle(1000) #randomize order of data\n",
        "    ds = ds.batch(batch_size).repeat(num_epochs)\n",
        "    return ds # return a batch of the dataset\n",
        "  return input_function # return a function object for use\n",
        "\n",
        "train_input_function = make_input_fn(training_df, letter5_from_training)\n",
        "eval_input_function = make_input_fn(eval_df, letter5_from_eval, num_epochs=1, shuffle=False)"
      ],
      "metadata": {
        "id": "e4B-vDngzT8E"
      },
      "execution_count": 25,
      "outputs": []
    },
    {
      "cell_type": "code",
      "source": [
        "linear_est = tf.estimator.LinearClassifier(feature_columns=feature_columns, n_classes=256)"
      ],
      "metadata": {
        "colab": {
          "base_uri": "https://localhost:8080/"
        },
        "id": "tfqX1PU60ZGo",
        "outputId": "9256e2c2-b89a-4c86-e6cd-965c39277450"
      },
      "execution_count": 26,
      "outputs": [
        {
          "output_type": "stream",
          "name": "stderr",
          "text": [
            "WARNING:tensorflow:Using temporary folder as model directory: /tmp/tmp56y7loa9\n"
          ]
        }
      ]
    },
    {
      "cell_type": "code",
      "source": [
        "linear_est.train(train_input_function)\n",
        "result = linear_est.evaluate(eval_input_function)\n",
        "\n",
        "clear_output()\n",
        "print(result['accuracy'])"
      ],
      "metadata": {
        "colab": {
          "base_uri": "https://localhost:8080/"
        },
        "id": "wcPPBtmw0j-s",
        "outputId": "b94c3416-1745-4558-89ca-a2d5cd8610f1"
      },
      "execution_count": 32,
      "outputs": [
        {
          "output_type": "stream",
          "name": "stdout",
          "text": [
            "0.12096774\n"
          ]
        }
      ]
    },
    {
      "cell_type": "code",
      "source": [
        "result = list(linear_est.predict(eval_input_function))\n",
        "print(result[0][\"probabilities\"][120])"
      ],
      "metadata": {
        "colab": {
          "base_uri": "https://localhost:8080/"
        },
        "id": "oVA39IpI7xBW",
        "outputId": "d4f63362-2954-4de0-b626-9313dedc7ba4"
      },
      "execution_count": 50,
      "outputs": [
        {
          "output_type": "stream",
          "name": "stdout",
          "text": [
            "0.000399769\n"
          ]
        }
      ]
    }
  ]
}